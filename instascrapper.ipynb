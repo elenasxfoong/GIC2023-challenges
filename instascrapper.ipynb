{
 "cells": [
  {
   "cell_type": "code",
   "execution_count": null,
   "metadata": {},
   "outputs": [],
   "source": []
  }
 ],
 "metadata": {
  "kernelspec": {
   "display_name": "Python 3.7.3 32-bit",
   "language": "python",
   "name": "python3"
  },
  "language_info": {
   "name": "python",
   "version": "3.7.3"
  },
  "orig_nbformat": 4,
  "vscode": {
   "interpreter": {
    "hash": "88d43018130af858858b2be9ec3bd2508b5ba2617bb54ddc01f8a6a1eed4a4e2"
   }
  }
 },
 "nbformat": 4,
 "nbformat_minor": 2
}
